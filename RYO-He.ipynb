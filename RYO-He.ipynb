{
 "cells": [
  {
   "cell_type": "markdown",
   "metadata": {},
   "source": [
    "# Roll-your-own density functional theory"
   ]
  },
  {
   "cell_type": "code",
   "execution_count": 1,
   "metadata": {
    "collapsed": true
   },
   "outputs": [],
   "source": [
    "import numpy as np\n",
    "from matplotlib import pyplot\n",
    "%matplotlib inline"
   ]
  },
  {
   "cell_type": "markdown",
   "metadata": {},
   "source": [
    "### The Helium atom\n",
    "\n",
    "We first start with the H atom, for simplicity. No xc functional is needed, so we are just solving the electronic structure problem in a box with a potential defined by the point charge of the nucleus in the center of the box, at (0, 0, 0). Our objective is to write the Hamiltonian, which is (without nuclear-nuclear repulsion terms:\n",
    "\n",
    "$$ \\hat{h} = - \\frac{\\hbar^2}{2m} \\nabla^2 - e^2 \\sum_{i=1}^N \\frac{Z}{ \\left|  \\vec{R} - \\vec{r}_i \\right| } + \\frac{e^2}{2} \\sum_{i=1}^N \\sum_{j \\ne i}^N \\frac{1}{\\left| \\vec{r}_i - \\vec{r}_j \\right|} $$\n",
    "\n",
    "We first set up the grid."
   ]
  },
  {
   "cell_type": "markdown",
   "metadata": {
    "collapsed": false
   },
   "source": [
    "xs, ys, and zs are now flattened vectors, the elements of which correspond to the coordinates in 3D space of the original grid. Next, we define the potential."
   ]
  },
  {
   "cell_type": "code",
   "execution_count": 2,
   "metadata": {
    "collapsed": false
   },
   "outputs": [],
   "source": [
    "g = 30  # Number of grid points in each dimension.\n",
    "g3 = g**3.\n",
    "p = np.linspace(-5., 5., g)\n",
    "xs, ys, zs = np.meshgrid(p, p, p)\n",
    "h = p[1] - p[0]  # Grid spacing.\n",
    "xs = xs.flatten()\n",
    "ys = ys.flatten()\n",
    "zs = zs.flatten()"
   ]
  },
  {
   "cell_type": "markdown",
   "metadata": {},
   "source": [
    "Define the constants. Initially, we start off with atomic units, so everything is unity. Later, we can add units."
   ]
  },
  {
   "cell_type": "code",
   "execution_count": 3,
   "metadata": {
    "collapsed": true
   },
   "outputs": [],
   "source": [
    "hbar = 1.0\n",
    "m = 1.0\n",
    "e = 1.0"
   ]
  },
  {
   "cell_type": "code",
   "execution_count": 4,
   "metadata": {
    "collapsed": false
   },
   "outputs": [],
   "source": [
    "distances = np.sqrt( xs**2. + ys**2. + zs**2.)"
   ]
  },
  {
   "cell_type": "markdown",
   "metadata": {},
   "source": [
    "Potential is now -2"
   ]
  },
  {
   "cell_type": "code",
   "execution_count": 5,
   "metadata": {
    "collapsed": false
   },
   "outputs": [],
   "source": [
    "Vext = -2.0/distances * e**2."
   ]
  },
  {
   "cell_type": "markdown",
   "metadata": {},
   "source": [
    "Next, we convert this to a sparse matrix"
   ]
  },
  {
   "cell_type": "code",
   "execution_count": 6,
   "metadata": {
    "collapsed": false
   },
   "outputs": [],
   "source": [
    "import scipy\n",
    "from scipy import sparse\n",
    "from scipy.sparse import linalg\n",
    "Vext = sparse.spdiags(Vext,0,g3,g3)"
   ]
  },
  {
   "cell_type": "markdown",
   "metadata": {},
   "source": [
    "(don't fully get this part yet, but we do understand that this gives charge neutrality within the Poisson equation, which makes zero density at the boundary condition less problematic) Here is the compensation charge:\n",
    "$$ ncomp = \\exp \\left[ - \\frac{R^2}{2} \\right] $$\n",
    "The corresponding potential is:\n",
    "$$ ncomppot = -\\frac{2}{R} \\mathrm{erf} \\left[ \\frac{R}{\\sqrt{2}} \\right] $$"
   ]
  },
  {
   "cell_type": "code",
   "execution_count": 7,
   "metadata": {
    "collapsed": false
   },
   "outputs": [],
   "source": [
    "from scipy import special\n",
    "ncomp = np.exp(-distances**2. / 2.0)\n",
    "ncomp = -2.0 * ncomp / sum( ncomp ) / h**3.0\n",
    "ncomppot = -2.0 / distances * scipy.special.erf( distances / np.sqrt(2.0))"
   ]
  },
  {
   "cell_type": "markdown",
   "metadata": {},
   "source": [
    "Now we create the Laplacian. Start with the identity matrix."
   ]
  },
  {
   "cell_type": "code",
   "execution_count": 8,
   "metadata": {
    "collapsed": false
   },
   "outputs": [],
   "source": [
    "I = sparse.eye(g)"
   ]
  },
  {
   "cell_type": "markdown",
   "metadata": {},
   "source": [
    "The first part of the Laplacian, $[1, -2, 1]$. comes from the finite difference approximation for the second derivative:\n",
    "$$ \\frac{\\partial^2 f \\left( x \\right) }{\\partial x^2} \\approx \\frac{f_{i+1} - 2f_i + f_{i-1}}{\\left( \\Delta x \\right)^2} $$\n",
    "The first $L$ is our one-dimensional Laplacian."
   ]
  },
  {
   "cell_type": "code",
   "execution_count": 9,
   "metadata": {
    "collapsed": false
   },
   "outputs": [],
   "source": [
    "_ = np.ones(g)\n",
    "L = sparse.spdiags( [_, -2.0*_, _],[-1,0,1], g, g) / h**2."
   ]
  },
  {
   "cell_type": "markdown",
   "metadata": {},
   "source": [
    "(here we're using Andy's throwaway underscore instead of 'e', because using 'e' is silly.). The next bit of magic is the Kronecker tensor product to form the full 3D Laplacian."
   ]
  },
  {
   "cell_type": "code",
   "execution_count": 15,
   "metadata": {
    "collapsed": false
   },
   "outputs": [
    {
     "ename": "NameError",
     "evalue": "name 'n' is not defined",
     "output_type": "error",
     "traceback": [
      "\u001b[1;31m---------------------------------------------------------------------------\u001b[0m",
      "\u001b[1;31mNameError\u001b[0m                                 Traceback (most recent call last)",
      "\u001b[1;32m<ipython-input-15-7e39d0eccade>\u001b[0m in \u001b[0;36m<module>\u001b[1;34m()\u001b[0m\n\u001b[0;32m      3\u001b[0m \u001b[0mL3\u001b[0m\u001b[1;33m.\u001b[0m\u001b[0mshape\u001b[0m\u001b[1;33m\u001b[0m\u001b[0m\n\u001b[0;32m      4\u001b[0m \u001b[0mncomp\u001b[0m\u001b[1;33m.\u001b[0m\u001b[0mshape\u001b[0m\u001b[1;33m\u001b[0m\u001b[0m\n\u001b[1;32m----> 5\u001b[1;33m \u001b[0mn\u001b[0m\u001b[1;33m.\u001b[0m\u001b[0mshape\u001b[0m\u001b[1;33m\u001b[0m\u001b[0m\n\u001b[0m",
      "\u001b[1;31mNameError\u001b[0m: name 'n' is not defined"
     ]
    }
   ],
   "source": [
    "L3 = sparse.kron( sparse.kron(L,I),I) + sparse.kron( sparse.kron(I,L),I) + sparse.kron( sparse.kron(I,I),L)\n",
    "T = -0.5 * hbar**2. / m * L3 \n",
    "L3.shape\n",
    "ncomp.shape\n",
    "n.shape"
   ]
  },
  {
   "cell_type": "markdown",
   "metadata": {},
   "source": [
    "Form the Hamiltonian"
   ]
  },
  {
   "cell_type": "code",
   "execution_count": 50,
   "metadata": {
    "collapsed": true
   },
   "outputs": [],
   "source": [
    "def get_Vtot(Vguess):\n",
    "    Hamiltonian = T + Vguess\n",
    "    eigenvalues, eigenvectors = sparse.linalg.eigs(Hamiltonian,k=3, which='SR')\n",
    "    #print eigenvectors[:,0].shape\n",
    "    Psi = eigenvectors[:,0]/sum(eigenvectors[:,0])\n",
    "    Psi /= h**(3./2.)\n",
    "    #print Psi.shape\n",
    "    n = 2.*Psi**2. #2 is for 2 electrons per orbital\n",
    "    #print n.shape\n",
    "    b=-4.0*np.pi * (n + ncomp)\n",
    "    #print b.shape\n",
    "    #print L3.shape\n",
    "    Vx = - (3.0 / np.pi)**(1./3.) * n**(1./3.)\n",
    "    Vh = sparse.linalg.cgs( A=L3, b=b, tol=1e-7,maxiter=400 ) \n",
    "    Vh = Vh[0] - ncomppot\n",
    "    Vx = sparse.spdiags(Vx,0,g3,g3)\n",
    "    Vh = sparse.spdiags(Vh,0,g3,g3)\n",
    "    #print Vx.shape\n",
    "    #print Vh.shape\n",
    "    #print Vext.shape\n",
    "    Vtot = Vx + Vh + Vext   \n",
    "    return Vtot"
   ]
  },
  {
   "cell_type": "code",
   "execution_count": 51,
   "metadata": {
    "collapsed": false
   },
   "outputs": [
    {
     "name": "stdout",
     "output_type": "stream",
     "text": [
      "(27000, 27000)\n",
      "(27000, 27000)\n",
      "(27000, 27000)\n"
     ]
    },
    {
     "ename": "NameError",
     "evalue": "name 'aaa' is not defined",
     "output_type": "error",
     "traceback": [
      "\u001b[1;31m---------------------------------------------------------------------------\u001b[0m",
      "\u001b[1;31mNameError\u001b[0m                                 Traceback (most recent call last)",
      "\u001b[1;32m<ipython-input-51-02fae940c5bf>\u001b[0m in \u001b[0;36m<module>\u001b[1;34m()\u001b[0m\n\u001b[0;32m      1\u001b[0m \u001b[0mVtot\u001b[0m \u001b[1;33m=\u001b[0m \u001b[0mget_Vtot\u001b[0m\u001b[1;33m(\u001b[0m\u001b[0mVext\u001b[0m\u001b[1;33m)\u001b[0m\u001b[1;33m\u001b[0m\u001b[0m\n\u001b[1;32m----> 2\u001b[1;33m \u001b[0maaa\u001b[0m\u001b[1;33m\u001b[0m\u001b[0m\n\u001b[0m",
      "\u001b[1;31mNameError\u001b[0m: name 'aaa' is not defined"
     ]
    }
   ],
   "source": [
    "Vtot = get_Vtot(Vext)\n",
    "aaa"
   ]
  },
  {
   "cell_type": "code",
   "execution_count": null,
   "metadata": {
    "collapsed": false
   },
   "outputs": [],
   "source": [
    "\n",
    "eigenvalues, eigenvectors = sparse.linalg.eigs(Hamiltonian,k=3, which='SR')"
   ]
  },
  {
   "cell_type": "code",
   "execution_count": null,
   "metadata": {
    "collapsed": false
   },
   "outputs": [],
   "source": [
    "print \"energy of hydrogen atom in eV: %.3F\"%(eigenvalues[0] * 27.21)\n",
    "print eigenvectors"
   ]
  },
  {
   "cell_type": "code",
   "execution_count": null,
   "metadata": {
    "collapsed": false
   },
   "outputs": [],
   "source": [
    "sum(eigenvectors[1]**2.)"
   ]
  },
  {
   "cell_type": "code",
   "execution_count": null,
   "metadata": {
    "collapsed": false
   },
   "outputs": [],
   "source": [
    "eigenvectors[0]"
   ]
  },
  {
   "cell_type": "code",
   "execution_count": null,
   "metadata": {
    "collapsed": true
   },
   "outputs": [],
   "source": []
  }
 ],
 "metadata": {
  "kernelspec": {
   "display_name": "Python 2",
   "language": "python",
   "name": "python2"
  },
  "language_info": {
   "codemirror_mode": {
    "name": "ipython",
    "version": 2
   },
   "file_extension": ".py",
   "mimetype": "text/x-python",
   "name": "python",
   "nbconvert_exporter": "python",
   "pygments_lexer": "ipython2",
   "version": "2.7.12"
  }
 },
 "nbformat": 4,
 "nbformat_minor": 0
}
