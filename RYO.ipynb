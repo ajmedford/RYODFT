{
 "metadata": {
  "kernelspec": {
   "display_name": "Python 2",
   "language": "python",
   "name": "python2"
  },
  "language_info": {
   "codemirror_mode": {
    "name": "ipython",
    "version": 2
   },
   "file_extension": ".py",
   "mimetype": "text/x-python",
   "name": "python",
   "nbconvert_exporter": "python",
   "pygments_lexer": "ipython2",
   "version": "2.7.12"
  },
  "name": "",
  "signature": "sha256:3b1f4a9e0e23ee0db40265cc68a5b95903bd2c9fa88cdd596a7e8fce4d78c1e3"
 },
 "nbformat": 3,
 "nbformat_minor": 0,
 "worksheets": [
  {
   "cells": [
    {
     "cell_type": "heading",
     "level": 1,
     "metadata": {},
     "source": [
      "Roll-your-own density functional theory"
     ]
    },
    {
     "cell_type": "code",
     "collapsed": true,
     "input": [
      "import numpy as np\n",
      "from matplotlib import pyplot\n",
      "%matplotlib inline"
     ],
     "language": "python",
     "metadata": {},
     "outputs": [],
     "prompt_number": 36
    },
    {
     "cell_type": "markdown",
     "metadata": {},
     "source": [
      "### The hydrogen atom\n",
      "\n",
      "We first start with the H atom, for simplicity. No xc functional is needed, so we are just solving the electronic structure problem in a box with a potential defined by the point charge of the nucleus in the center of the box, at (0, 0, 0). Our objective is to write the Hamiltonian, which is (without nuclear-nuclear repulsion terms:\n",
      "\n",
      "$$ \\hat{h} = - \\frac{\\hbar^2}{2m} \\nabla^2 - e^2 \\frac{Z}{\\vec{R} - \\vec{r}} $$\n",
      "\n",
      "We first set up the grid."
     ]
    },
    {
     "cell_type": "markdown",
     "metadata": {
      "collapsed": false
     },
     "source": [
      "xs, ys, and zs are now flattened vectors, the elements of which correspond to the coordinates in 3D space of the original grid. Next, we define the potential."
     ]
    },
    {
     "cell_type": "code",
     "collapsed": false,
     "input": [
      "R  = [2.0, 2.0, 0.0]\n",
      "Z = 2.0\n",
      "\n",
      "# constants\n",
      "hbar = 1.0\n",
      "m = 1.0\n",
      "e = 1.0\n",
      "box_size = max(np.abs(R))+5.\n",
      "\n",
      "g = 30  # Number of grid points in each dimension.\n",
      "g3 = g**3.\n",
      "p = np.linspace(-box_size, box_size, g)\n",
      "xs, ys, zs = np.meshgrid(p, p, p)\n",
      "h = p[1] - p[0]  # Grid spacing.\n",
      "xs = xs.flatten()\n",
      "ys = ys.flatten()\n",
      "zs = zs.flatten()"
     ],
     "language": "python",
     "metadata": {},
     "outputs": [],
     "prompt_number": 53
    },
    {
     "cell_type": "markdown",
     "metadata": {},
     "source": [
      "Define the constants. Initially, we start off with atomic units, so everything is unity. Later, we can add units."
     ]
    },
    {
     "cell_type": "code",
     "collapsed": true,
     "input": [
      "\n",
      "\n"
     ],
     "language": "python",
     "metadata": {},
     "outputs": [],
     "prompt_number": 53
    },
    {
     "cell_type": "code",
     "collapsed": false,
     "input": [
      "distances = np.sqrt( (xs-R[0])**2. + (ys-R[1])**2. + (zs-R[2])**2.)"
     ],
     "language": "python",
     "metadata": {},
     "outputs": [],
     "prompt_number": 38
    },
    {
     "cell_type": "code",
     "collapsed": true,
     "input": [
      "Vext = -Z/distances * e**2."
     ],
     "language": "python",
     "metadata": {},
     "outputs": [],
     "prompt_number": 39
    },
    {
     "cell_type": "markdown",
     "metadata": {},
     "source": [
      "Next, we convert this to a sparse matrix"
     ]
    },
    {
     "cell_type": "code",
     "collapsed": false,
     "input": [
      "import scipy\n",
      "from scipy import sparse\n",
      "Vext = sparse.spdiags(Vext,0,g3,g3)"
     ],
     "language": "python",
     "metadata": {},
     "outputs": [],
     "prompt_number": 40
    },
    {
     "cell_type": "markdown",
     "metadata": {},
     "source": [
      "Now we create the Laplacian. Start with the identity matrix."
     ]
    },
    {
     "cell_type": "code",
     "collapsed": false,
     "input": [
      "I = sparse.eye(g)"
     ],
     "language": "python",
     "metadata": {},
     "outputs": [],
     "prompt_number": 41
    },
    {
     "cell_type": "markdown",
     "metadata": {},
     "source": [
      "The first part of the Laplacian, $[1, -2, 1]$. comes from the finite difference approximation for the second derivative:\n",
      "$$ \\frac{\\partial^2 f \\left( x \\right) }{\\partial x^2} \\approx \\frac{f_{i+1} - 2f_i + f_{i-1}}{\\left( \\Delta x \\right)^2} $$\n",
      "The first $L$ is our one-dimensional Laplacian."
     ]
    },
    {
     "cell_type": "code",
     "collapsed": false,
     "input": [
      "_ = np.ones(g)\n",
      "L = sparse.spdiags( [_, -2.0*_, _],[-1,0,1], g, g) / h**2."
     ],
     "language": "python",
     "metadata": {},
     "outputs": [],
     "prompt_number": 42
    },
    {
     "cell_type": "markdown",
     "metadata": {},
     "source": [
      "(here we're using Andy's throwaway underscore instead of 'e', because using 'e' is silly.). The next bit of magic is the Kronecker tensor product to form the full 3D Laplacian."
     ]
    },
    {
     "cell_type": "code",
     "collapsed": false,
     "input": [
      "L3 = sparse.kron( sparse.kron(L,I),I) + sparse.kron( sparse.kron(I,L),I) + sparse.kron( sparse.kron(I,I),L)\n",
      "np.shape(L3)"
     ],
     "language": "python",
     "metadata": {},
     "outputs": [
      {
       "metadata": {},
       "output_type": "pyout",
       "prompt_number": 43,
       "text": [
        "(27000, 27000)"
       ]
      }
     ],
     "prompt_number": 43
    },
    {
     "cell_type": "markdown",
     "metadata": {},
     "source": [
      "Although it's not straightforward to construct L3, it is straightforward to understand what is in it. It is essentially a finite-difference matrix of the Laplacian:\n",
      "\n",
      "\n",
      "$$ \\nabla^2 f = \\frac{\\partial f}{\\partial x} + \\frac{\\partial f}{\\partial y} + \\frac{\\partial f}{\\partial z}$$\n",
      "\n",
      "$$ \\nabla^2 f \\approx \\frac{f_{i-1,j,k} - 2 f_{i,j,k} + f_{i+1,j,k}}{\\Delta x^2} + \\frac{f_{i,j-1,k} - 2 f_{i,j,k} + f_{i,j+1,k}}{\\Delta y^2} + \\frac{f_{i,j,k+1} - 2 f_{i,j,k} + f_{i,j,k-1}}{\\Delta z^2}\n",
      " $$\n",
      " \n",
      "For equal grid spacing in all dimensions, we see we get -6 multiplying all $f_{i,j,k}$ elements (on diagonal), +1 multiplying the off-diagonals, and 0 for everything else. Of course, our $f$ grid has been flattened into a vector so this shape is not apparent, but we can still see that these are the three components.  "
     ]
    },
    {
     "cell_type": "code",
     "collapsed": false,
     "input": [
      "print(np.size(L3))\n",
      "print(np.prod(np.shape(L3)))  # The difference in these two is the number of zeros in the matrix.\n",
      "print(L3.max() * h**2)\n",
      "print(L3.min() * h**2)"
     ],
     "language": "python",
     "metadata": {},
     "outputs": [
      {
       "output_type": "stream",
       "stream": "stdout",
       "text": [
        "183600\n",
        "729000000\n",
        "1.0\n",
        "-6.0\n"
       ]
      }
     ],
     "prompt_number": 44
    },
    {
     "cell_type": "code",
     "collapsed": false,
     "input": [
      "# Make the kinetic energy operator.\n",
      "T = -0.5 * hbar**2. / m * L3 "
     ],
     "language": "python",
     "metadata": {},
     "outputs": [],
     "prompt_number": 45
    },
    {
     "cell_type": "markdown",
     "metadata": {},
     "source": [
      "Form the Hamiltonian"
     ]
    },
    {
     "cell_type": "code",
     "collapsed": false,
     "input": [
      "Hamiltonian = T + Vext"
     ],
     "language": "python",
     "metadata": {},
     "outputs": [],
     "prompt_number": 46
    },
    {
     "cell_type": "code",
     "collapsed": false,
     "input": [
      "from scipy.sparse import linalg\n",
      "eigenvalues, eigenvectors = sparse.linalg.eigs(Hamiltonian,k=3, which='SR')"
     ],
     "language": "python",
     "metadata": {},
     "outputs": [],
     "prompt_number": 47
    },
    {
     "cell_type": "code",
     "collapsed": false,
     "input": [
      "print \"energy of hydrogen atom in eV: %.3F\"%(np.real(eigenvalues[0]) * 27.21)\n",
      "print eigenvectors"
     ],
     "language": "python",
     "metadata": {},
     "outputs": [
      {
       "output_type": "stream",
       "stream": "stdout",
       "text": [
        "energy of hydrogen atom in eV: -47.519\n",
        "[[ -3.04200099e-13+0.j   8.40055623e-08+0.j   3.45941044e-08+0.j]\n",
        " [ -6.55820798e-13+0.j   1.71018195e-07+0.j   6.88763812e-08+0.j]\n",
        " [ -1.10289060e-12+0.j   2.63650110e-07+0.j   1.02345704e-07+0.j]\n",
        " ..., \n",
        " [ -7.02747667e-09+0.j  -8.88435660e-06+0.j  -1.32280888e-05+0.j]\n",
        " [ -3.58811730e-09+0.j  -5.26267545e-06+0.j  -8.37023986e-06+0.j]\n",
        " [ -1.49668190e-09+0.j  -2.43594826e-06+0.j  -4.04104734e-06+0.j]]\n"
       ]
      }
     ],
     "prompt_number": 48
    },
    {
     "cell_type": "code",
     "collapsed": false,
     "input": [
      "sum(eigenvectors[1]**2.)"
     ],
     "language": "python",
     "metadata": {},
     "outputs": [
      {
       "metadata": {},
       "output_type": "pyout",
       "prompt_number": 49,
       "text": [
        "(3.399117897407782e-14+0j)"
       ]
      }
     ],
     "prompt_number": 49
    },
    {
     "cell_type": "markdown",
     "metadata": {},
     "source": [
      "## Visualizing the electron density\n",
      "\n",
      "Here, we'll re-shape the vectors back to their original size and plot the electron density in the $yz$ plane for a couple of slices of $x$ values."
     ]
    },
    {
     "cell_type": "code",
     "collapsed": false,
     "input": [
      "vector = eigenvectors[:,0]\n",
      "vector = vector.reshape((g, g, g))\n",
      "xsg = xs.reshape((g, g, g))\n",
      "ysg = ys.reshape((g, g, g))\n",
      "zsg = zs.reshape((g, g, g))"
     ],
     "language": "python",
     "metadata": {},
     "outputs": [],
     "prompt_number": 50
    },
    {
     "cell_type": "code",
     "collapsed": false,
     "input": [
      "fig, (ax1, ax2) = pyplot.subplots(ncols=2, figsize=2*np.array((12., 6.)))\n",
      "\n",
      "def plot_contour(index, ax):\n",
      "    y_plot = ysg[:, index, :]\n",
      "    z_plot = zsg[:, index, :]\n",
      "    v_plot = np.real(vector[:, index, :]**2)\n",
      "    x_plot = xsg[:, index, :]  # Just a check to see if all elements are identical.\n",
      "    assert np.all(x_plot == x_plot[0,0])\n",
      "    ax.contourf(y_plot, z_plot, v_plot);\n",
      "    ax.set_title('$x$=%.2f' % x_plot[0,0])\n",
      "    print(v_plot.min(), v_plot.max())\n",
      "plot_contour(15, ax = ax1)\n",
      "plot_contour(12, ax=ax2)"
     ],
     "language": "python",
     "metadata": {},
     "outputs": [
      {
       "output_type": "stream",
       "stream": "stdout",
       "text": [
        "(2.3415621311660355e-20, 0.00035678559949877276)\n",
        "(6.7279191824949846e-21, 1.9769652305640059e-06)\n"
       ]
      },
      {
       "metadata": {},
       "output_type": "display_data",
       "png": "[encoded data removed]",
       "text": [
        "<matplotlib.figure.Figure at 0x8c9c850>"
       ]
      }
     ],
     "prompt_number": 51
    }
   ],
   "metadata": {}
  }
 ]
}