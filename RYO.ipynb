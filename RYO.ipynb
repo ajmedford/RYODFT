{
 "cells": [
  {
   "cell_type": "markdown",
   "metadata": {},
   "source": [
    "# Roll-your-own density functional theory"
   ]
  },
  {
   "cell_type": "code",
   "execution_count": 1,
   "metadata": {
    "collapsed": true
   },
   "outputs": [],
   "source": [
    "import numpy as np\n",
    "from matplotlib import pyplot\n",
    "%matplotlib inline"
   ]
  },
  {
   "cell_type": "markdown",
   "metadata": {},
   "source": [
    "### The hydrogen atom\n",
    "\n",
    "We first start with the H atom, for simplicity. No xc functional is needed, so we are just solving the electronic structure problem in a box with a potential defined by the point charge of the nucleus in the center of the box, at (0, 0, 0). Our objective is to write the Hamiltonian, which is (without nuclear-nuclear repulsion terms:\n",
    "\n",
    "$$ \\hat{h} = - \\frac{\\hbar^2}{2m} \\nabla^2 - e^2 \\frac{Z}{\\vec{R} - \\vec{r}} $$\n",
    "\n",
    "We first set up the grid."
   ]
  },
  {
   "cell_type": "markdown",
   "metadata": {
    "collapsed": false
   },
   "source": [
    "xs, ys, and zs are now flattened vectors, the elements of which correspond to the coordinates in 3D space of the original grid. Next, we define the potential."
   ]
  },
  {
   "cell_type": "code",
   "execution_count": 2,
   "metadata": {
    "collapsed": false
   },
   "outputs": [],
   "source": [
    "g = 30  # Number of grid points in each dimension.\n",
    "g3 = g**3.\n",
    "p = np.linspace(-5., 5., g)\n",
    "xs, ys, zs = np.meshgrid(p, p, p)\n",
    "h = p[1] - p[0]  # Grid spacing.\n",
    "xs = xs.flatten()\n",
    "ys = ys.flatten()\n",
    "zs = zs.flatten()"
   ]
  },
  {
   "cell_type": "markdown",
   "metadata": {},
   "source": [
    "Define the constants. Initially, we start off with atomic units, so everything is unity. Later, we can add units."
   ]
  },
  {
   "cell_type": "code",
   "execution_count": 3,
   "metadata": {
    "collapsed": true
   },
   "outputs": [],
   "source": [
    "hbar = 1.0\n",
    "m = 1.0\n",
    "e = 1.0"
   ]
  },
  {
   "cell_type": "code",
   "execution_count": 4,
   "metadata": {
    "collapsed": false
   },
   "outputs": [],
   "source": [
    "distances = np.sqrt( xs**2. + ys**2. + zs**2.)"
   ]
  },
  {
   "cell_type": "code",
   "execution_count": 5,
   "metadata": {
    "collapsed": true
   },
   "outputs": [],
   "source": [
    "Vext = -1.0/distances * e**2."
   ]
  },
  {
   "cell_type": "markdown",
   "metadata": {},
   "source": [
    "Next, we convert this to a sparse matrix"
   ]
  },
  {
   "cell_type": "code",
   "execution_count": 6,
   "metadata": {
    "collapsed": false
   },
   "outputs": [],
   "source": [
    "import scipy\n",
    "from scipy import sparse\n",
    "Vext = sparse.spdiags(Vext,0,g3,g3)"
   ]
  },
  {
   "cell_type": "markdown",
   "metadata": {},
   "source": [
    "Now we create the Laplacian. Start with the identity matrix."
   ]
  },
  {
   "cell_type": "code",
   "execution_count": 7,
   "metadata": {
    "collapsed": false
   },
   "outputs": [],
   "source": [
    "I = sparse.eye(g)"
   ]
  },
  {
   "cell_type": "markdown",
   "metadata": {},
   "source": [
    "The first part of the Laplacian, $[1, -2, 1]$. comes from the finite difference approximation for the second derivative:\n",
    "$$ \\frac{\\partial^2 f \\left( x \\right) }{\\partial x^2} \\approx \\frac{f_{i+1} - 2f_i + f_{i-1}}{\\left( \\Delta x \\right)^2} $$\n",
    "The first $L$ is our one-dimensional Laplacian."
   ]
  },
  {
   "cell_type": "code",
   "execution_count": 8,
   "metadata": {
    "collapsed": false
   },
   "outputs": [],
   "source": [
    "_ = np.ones(g)\n",
    "L = sparse.spdiags( [_, -2.0*_, _],[-1,0,1], g, g) / h**2."
   ]
  },
  {
   "cell_type": "markdown",
   "metadata": {},
   "source": [
    "(here we're using Andy's throwaway underscore instead of 'e', because using 'e' is silly.). The next bit of magic is the Kronecker tensor product to form the full 3D Laplacian."
   ]
  },
  {
   "cell_type": "code",
   "execution_count": 9,
   "metadata": {
    "collapsed": false
   },
   "outputs": [],
   "source": [
    "L3 = sparse.kron( sparse.kron(L,I),I) + sparse.kron( sparse.kron(I,L),I) + sparse.kron( sparse.kron(I,I),L)\n",
    "np.shape(L3)\n",
    "T = -0.5 * hbar**2. / m * L3 "
   ]
  },
  {
   "cell_type": "markdown",
   "metadata": {},
   "source": [
    "Form the Hamiltonian"
   ]
  },
  {
   "cell_type": "code",
   "execution_count": 10,
   "metadata": {
    "collapsed": false
   },
   "outputs": [],
   "source": [
    "Hamiltonian = T + Vext"
   ]
  },
  {
   "cell_type": "code",
   "execution_count": 11,
   "metadata": {
    "collapsed": false
   },
   "outputs": [],
   "source": [
    "from scipy.sparse import linalg\n",
    "eigenvalues, eigenvectors = sparse.linalg.eigs(Hamiltonian,k=3, which='SR')"
   ]
  },
  {
   "cell_type": "code",
   "execution_count": 15,
   "metadata": {
    "collapsed": false
   },
   "outputs": [
    {
     "name": "stdout",
     "output_type": "stream",
     "text": [
      "energy of hydrogen atom in eV: -13.216\n",
      "[[  9.80265367e-07+0.j  -3.61400830e-06+0.j  -1.39196729e-05+0.j]\n",
      " [  1.98930017e-06+0.j  -7.60595997e-06+0.j  -2.75965279e-05+0.j]\n",
      " [  3.05244134e-06+0.j  -1.23363478e-05+0.j  -4.07628194e-05+0.j]\n",
      " ..., \n",
      " [  3.05244134e-06+0.j   1.23363478e-05+0.j   4.07628194e-05+0.j]\n",
      " [  1.98930017e-06+0.j   7.60595997e-06+0.j   2.75965279e-05+0.j]\n",
      " [  9.80265367e-07+0.j   3.61400830e-06+0.j   1.39196729e-05+0.j]]\n"
     ]
    },
    {
     "name": "stderr",
     "output_type": "stream",
     "text": [
      "/home/aap/.local/lib/python2.7/site-packages/ipykernel/__main__.py:1: ComplexWarning: Casting complex values to real discards the imaginary part\n",
      "  if __name__ == '__main__':\n"
     ]
    }
   ],
   "source": [
    "print \"energy of hydrogen atom in eV: %.3F\"%(eigenvalues[0] * 27.21)\n",
    "print eigenvectors"
   ]
  },
  {
   "cell_type": "code",
   "execution_count": 18,
   "metadata": {
    "collapsed": false
   },
   "outputs": [
    {
     "data": {
      "text/plain": [
       "(8.2337629689031268e-10+0j)"
      ]
     },
     "execution_count": 18,
     "metadata": {},
     "output_type": "execute_result"
    }
   ],
   "source": [
    "sum(eigenvectors[1]**2.)"
   ]
  },
  {
   "cell_type": "code",
   "execution_count": 20,
   "metadata": {
    "collapsed": false
   },
   "outputs": [
    {
     "data": {
      "text/plain": [
       "array([  9.80265367e-07+0.j,  -3.61400830e-06+0.j,  -1.39196729e-05+0.j])"
      ]
     },
     "execution_count": 20,
     "metadata": {},
     "output_type": "execute_result"
    }
   ],
   "source": [
    "eigenvectors[0]"
   ]
  },
  {
   "cell_type": "code",
   "execution_count": null,
   "metadata": {
    "collapsed": true
   },
   "outputs": [],
   "source": []
  }
 ],
 "metadata": {
  "kernelspec": {
   "display_name": "Python 2",
   "language": "python",
   "name": "python2"
  },
  "language_info": {
   "codemirror_mode": {
    "name": "ipython",
    "version": 2
   },
   "file_extension": ".py",
   "mimetype": "text/x-python",
   "name": "python",
   "nbconvert_exporter": "python",
   "pygments_lexer": "ipython2",
   "version": "2.7.12"
  }
 },
 "nbformat": 4,
 "nbformat_minor": 0
}
