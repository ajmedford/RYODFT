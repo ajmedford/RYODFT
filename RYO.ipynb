{
 "metadata": {
  "kernelspec": {
   "display_name": "Python 2",
   "language": "python",
   "name": "python2"
  },
  "language_info": {
   "codemirror_mode": {
    "name": "ipython",
    "version": 2
   },
   "file_extension": ".py",
   "mimetype": "text/x-python",
   "name": "python",
   "nbconvert_exporter": "python",
   "pygments_lexer": "ipython2",
   "version": "2.7.12"
  },
  "name": "",
  "signature": "sha256:e35f75f8b23f8e6392895e304d84088242917499332fed88dfcad72f7683d3e6"
 },
 "nbformat": 3,
 "nbformat_minor": 0,
 "worksheets": [
  {
   "cells": [
    {
     "cell_type": "heading",
     "level": 1,
     "metadata": {},
     "source": [
      "Roll-your-own density functional theory"
     ]
    },
    {
     "cell_type": "code",
     "collapsed": true,
     "input": [
      "import numpy as np\n",
      "from matplotlib import pyplot\n",
      "%matplotlib inline"
     ],
     "language": "python",
     "metadata": {},
     "outputs": [],
     "prompt_number": 1
    },
    {
     "cell_type": "markdown",
     "metadata": {},
     "source": [
      "### The hydrogen atom\n",
      "\n",
      "We first start with the H atom, for simplicity. No xc functional is needed, so we are just solving the electronic structure problem in a box with a potential defined by the point charge of the nucleus in the center of the box, at (0, 0, 0). Our objective is to write the Hamiltonian, which is (without nuclear-nuclear repulsion terms:\n",
      "\n",
      "$$ \\hat{h} = - \\frac{\\hbar^2}{2m} \\nabla^2 - e^2 \\frac{Z}{\\vec{R} - \\vec{r}} $$\n",
      "\n",
      "We first set up the grid."
     ]
    },
    {
     "cell_type": "markdown",
     "metadata": {
      "collapsed": false
     },
     "source": [
      "xs, ys, and zs are now flattened vectors, the elements of which correspond to the coordinates in 3D space of the original grid. Next, we define the potential."
     ]
    },
    {
     "cell_type": "code",
     "collapsed": false,
     "input": [
      "g = 30  # Number of grid points in each dimension.\n",
      "g3 = g**3.\n",
      "p = np.linspace(-5., 5., g)\n",
      "xs, ys, zs = np.meshgrid(p, p, p)\n",
      "h = p[1] - p[0]  # Grid spacing.\n",
      "xs = xs.flatten()\n",
      "ys = ys.flatten()\n",
      "zs = zs.flatten()"
     ],
     "language": "python",
     "metadata": {},
     "outputs": [],
     "prompt_number": 2
    },
    {
     "cell_type": "markdown",
     "metadata": {},
     "source": [
      "Define the constants. Initially, we start off with atomic units, so everything is unity. Later, we can add units."
     ]
    },
    {
     "cell_type": "code",
     "collapsed": true,
     "input": [
      "hbar = 1.0\n",
      "m = 1.0\n",
      "e = 1.0"
     ],
     "language": "python",
     "metadata": {},
     "outputs": [],
     "prompt_number": 3
    },
    {
     "cell_type": "code",
     "collapsed": false,
     "input": [
      "distances = np.sqrt( xs**2. + ys**2. + zs**2.)"
     ],
     "language": "python",
     "metadata": {},
     "outputs": [],
     "prompt_number": 4
    },
    {
     "cell_type": "code",
     "collapsed": true,
     "input": [
      "Vext = -1.0/distances * e**2."
     ],
     "language": "python",
     "metadata": {},
     "outputs": [],
     "prompt_number": 5
    },
    {
     "cell_type": "markdown",
     "metadata": {},
     "source": [
      "Next, we convert this to a sparse matrix"
     ]
    },
    {
     "cell_type": "code",
     "collapsed": false,
     "input": [
      "import scipy\n",
      "from scipy import sparse\n",
      "Vext = sparse.spdiags(Vext,0,g3,g3)"
     ],
     "language": "python",
     "metadata": {},
     "outputs": [],
     "prompt_number": 6
    },
    {
     "cell_type": "markdown",
     "metadata": {},
     "source": [
      "Now we create the Laplacian. Start with the identity matrix."
     ]
    },
    {
     "cell_type": "code",
     "collapsed": false,
     "input": [
      "I = sparse.eye(g)"
     ],
     "language": "python",
     "metadata": {},
     "outputs": [],
     "prompt_number": 7
    },
    {
     "cell_type": "markdown",
     "metadata": {},
     "source": [
      "The first part of the Laplacian, $[1, -2, 1]$. comes from the finite difference approximation for the second derivative:\n",
      "$$ \\frac{\\partial^2 f \\left( x \\right) }{\\partial x^2} \\approx \\frac{f_{i+1} - 2f_i + f_{i-1}}{\\left( \\Delta x \\right)^2} $$\n",
      "The first $L$ is our one-dimensional Laplacian."
     ]
    },
    {
     "cell_type": "code",
     "collapsed": false,
     "input": [
      "_ = np.ones(g)\n",
      "L = sparse.spdiags( [_, -2.0*_, _],[-1,0,1], g, g) / h**2."
     ],
     "language": "python",
     "metadata": {},
     "outputs": [],
     "prompt_number": 8
    },
    {
     "cell_type": "markdown",
     "metadata": {},
     "source": [
      "(here we're using Andy's throwaway underscore instead of 'e', because using 'e' is silly.). The next bit of magic is the Kronecker tensor product to form the full 3D Laplacian."
     ]
    },
    {
     "cell_type": "code",
     "collapsed": false,
     "input": [
      "L3 = sparse.kron( sparse.kron(L,I),I) + sparse.kron( sparse.kron(I,L),I) + sparse.kron( sparse.kron(I,I),L)\n",
      "np.shape(L3)\n",
      "T = -0.5 * hbar**2. / m * L3 "
     ],
     "language": "python",
     "metadata": {},
     "outputs": [],
     "prompt_number": 9
    },
    {
     "cell_type": "markdown",
     "metadata": {},
     "source": [
      "Form the Hamiltonian"
     ]
    },
    {
     "cell_type": "code",
     "collapsed": false,
     "input": [
      "Hamiltonian = T + Vext"
     ],
     "language": "python",
     "metadata": {},
     "outputs": [],
     "prompt_number": 10
    },
    {
     "cell_type": "code",
     "collapsed": false,
     "input": [
      "from scipy.sparse import linalg\n",
      "eigenvalues, eigenvectors = sparse.linalg.eigs(Hamiltonian,k=3, which='SR')"
     ],
     "language": "python",
     "metadata": {},
     "outputs": [],
     "prompt_number": 11
    },
    {
     "cell_type": "code",
     "collapsed": false,
     "input": [
      "print \"energy of hydrogen atom in eV: %.3F\"%(np.real(eigenvalues[0]) * 27.21)\n",
      "print eigenvectors"
     ],
     "language": "python",
     "metadata": {},
     "outputs": [
      {
       "output_type": "stream",
       "stream": "stdout",
       "text": [
        "energy of hydrogen atom in eV: -13.216\n",
        "[[ -9.80265367e-07+0.j   2.63918996e-06+0.j  -1.75898070e-05+0.j]\n",
        " [ -1.98930017e-06+0.j   5.67175683e-06+0.j  -3.49794189e-05+0.j]\n",
        " [ -3.05244134e-06+0.j   9.47541176e-06+0.j  -5.19344852e-05+0.j]\n",
        " ..., \n",
        " [ -3.05244134e-06+0.j  -9.47541176e-06+0.j   5.19344852e-05+0.j]\n",
        " [ -1.98930017e-06+0.j  -5.67175683e-06+0.j   3.49794189e-05+0.j]\n",
        " [ -9.80265367e-07+0.j  -2.63918996e-06+0.j   1.75898070e-05+0.j]]\n"
       ]
      }
     ],
     "prompt_number": 12
    },
    {
     "cell_type": "code",
     "collapsed": false,
     "input": [
      "sum(eigenvectors[1]**2.)"
     ],
     "language": "python",
     "metadata": {},
     "outputs": [
      {
       "metadata": {},
       "output_type": "pyout",
       "prompt_number": 13,
       "text": [
        "(1.2596858872502671e-09+0j)"
       ]
      }
     ],
     "prompt_number": 13
    },
    {
     "cell_type": "markdown",
     "metadata": {},
     "source": [
      "## Visualizing the electron density\n",
      "\n",
      "Here, we'll re-shape the vectors back to their original size and plot the electron density in the $yz$ plane for a couple of slices of $x$ values."
     ]
    },
    {
     "cell_type": "code",
     "collapsed": false,
     "input": [
      "vector = eigenvectors[:,0]\n",
      "vector = vector.reshape((g, g, g))\n",
      "xsg = xs.reshape((g, g, g))\n",
      "ysg = ys.reshape((g, g, g))\n",
      "zsg = zs.reshape((g, g, g))"
     ],
     "language": "python",
     "metadata": {},
     "outputs": [],
     "prompt_number": 14
    },
    {
     "cell_type": "code",
     "collapsed": false,
     "input": [
      "fig, (ax1, ax2) = pyplot.subplots(ncols=2, figsize=2*np.array((12., 6.)))\n",
      "\n",
      "def plot_contour(index, ax):\n",
      "    y_plot = ysg[:, index, :]\n",
      "    z_plot = zsg[:, index, :]\n",
      "    v_plot = np.real(vector[:, index, :]**2)\n",
      "    x_plot = xsg[:, index, :]  # Just a check to see if all elements are identical.\n",
      "    assert np.all(x_plot == x_plot[0,0])\n",
      "    ax.contourf(y_plot, z_plot, v_plot, vmin=0., vmax=0.007);\n",
      "    ax.set_title('$x$=%.2f' % x_plot[0,0])\n",
      "    print(v_plot.min(), v_plot.max())\n",
      "plot_contour(15, ax = ax1)\n",
      "plot_contour(12, ax=ax2)"
     ],
     "language": "python",
     "metadata": {},
     "outputs": [
      {
       "output_type": "stream",
       "stream": "stdout",
       "text": [
        "(2.8538688842770319e-10, 0.0067448085330932203)\n",
        "(2.5220081528960434e-10, 0.0021611653859898365)\n"
       ]
      },
      {
       "metadata": {},
       "output_type": "display_data",
       "png": "[encoded data removed]",
       "text": [
        "<matplotlib.figure.Figure at 0x7f9ff58d4090>"
       ]
      }
     ],
     "prompt_number": 15
    },
    {
     "cell_type": "code",
     "collapsed": false,
     "input": [],
     "language": "python",
     "metadata": {},
     "outputs": [],
     "prompt_number": 15
    }
   ],
   "metadata": {}
  }
 ]
}